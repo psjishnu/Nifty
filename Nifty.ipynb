{
 "cells": [
  {
   "cell_type": "code",
   "execution_count": 1,
   "id": "c7e16c5a-2316-4483-9e4c-ff88f24260d7",
   "metadata": {},
   "outputs": [
    {
     "data": {
      "text/plain": [
       "(array([  1.,   0.,   0.,   1.,   5.,  32., 105.,  76.,  23.,   9.]),\n",
       " array([-0.23287674, -0.19949517, -0.16611361, -0.13273204, -0.09935047,\n",
       "        -0.06596891, -0.03258734,  0.00079422,  0.03417579,  0.06755736,\n",
       "         0.10093892]),\n",
       " <BarContainer object of 10 artists>)"
      ]
     },
     "execution_count": 9,
     "metadata": {},
     "output_type": "execute_result"
    },
    {
     "data": {
      "image/png": "[encoded data removed]",
      "text/plain": [
       "<Figure size 432x288 with 1 Axes>"
      ]
     },
     "metadata": {
      "needs_background": "light"
     },
     "output_type": "display_data"
    }
   ],
   "source": [
    "import http.client\n",
    "import matplotlib.pyplot as plt\n",
    "import numpy as np\n",
    "# if using a Jupyter notebook, includue:\n",
    "%matplotlib inline\n",
    "import json\n",
    "conn = http.client.HTTPSConnection(\"apidojo-yahoo-finance-v1.p.rapidapi.com\")\n",
    "\n",
    "headers = {\n",
    "    'x-rapidapi-key': \"267f25b152mshb04baccb77d9f0bp1cf6a9jsn443dbece0af8\",\n",
    "    'x-rapidapi-host': \"apidojo-yahoo-finance-v1.p.rapidapi.com\"\n",
    "}\n",
    "\n",
    "conn.request(\n",
    "    \"GET\", \"/stock/v3/get-historical-data?symbol=AMRN&region=US\", headers=headers)\n",
    "\n",
    "res = conn.getresponse()\n",
    "data = res.read()\n",
    "\n",
    "\n",
    "priceObj = data.decode(\"utf-8\")\n",
    "# parse x:\n",
    "y = json.loads(priceObj)\n",
    "\n",
    "\n",
    "priceList = y[\"prices\"]\n",
    "arr = []\n",
    "for i in priceList:\n",
    "    arr.append((i[\"close\"]-i[\"open\"])/i[\"open\"])\n",
    "mu = 80\n",
    "sigma = 7\n",
    "x = np.random.normal(mu, sigma, size=200)\n",
    "plt.hist(arr)"
   ]
  },
  {
   "cell_type": "code",
   "execution_count": null,
   "id": "611ae2ca-9774-4e69-8b57-ad4563c26fa7",
   "metadata": {},
   "outputs": [],
   "source": []
  }
 ],
 "metadata": {
  "kernelspec": {
   "display_name": "Python 3",
   "language": "python",
   "name": "python3"
  },
  "language_info": {
   "codemirror_mode": {
    "name": "ipython",
    "version": 3
   },
   "file_extension": ".py",
   "mimetype": "text/x-python",
   "name": "python",
   "nbconvert_exporter": "python",
   "pygments_lexer": "ipython3",
   "version": "3.9.2"
  }
 },
 "nbformat": 4,
 "nbformat_minor": 5
}
